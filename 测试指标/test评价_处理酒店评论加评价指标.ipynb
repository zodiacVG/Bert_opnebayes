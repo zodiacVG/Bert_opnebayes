{
 "cells": [
  {
   "cell_type": "code",
   "execution_count": 1,
   "id": "f69c2675",
   "metadata": {},
   "outputs": [],
   "source": [
    "import pandas as pd"
   ]
  },
  {
   "cell_type": "code",
   "execution_count": 43,
   "id": "fd4fb8b5",
   "metadata": {},
   "outputs": [],
   "source": [
    "test_result = pd.read_csv('test_results.tsv',sep='\\t',header=None)     #tsv使用/t作为分隔符   取消默认第一行的表头"
   ]
  },
  {
   "cell_type": "code",
   "execution_count": 44,
   "id": "4cb6b682",
   "metadata": {},
   "outputs": [
    {
     "name": "stdout",
     "output_type": "stream",
     "text": [
      "            0         1\n",
      "0    0.996199  0.003801\n",
      "1    0.001408  0.998592\n",
      "2    0.895401  0.104599\n",
      "3    0.990331  0.009669\n",
      "4    0.997237  0.002763\n",
      "..        ...       ...\n",
      "772  0.997034  0.002966\n",
      "773  0.424192  0.575808\n",
      "774  0.996730  0.003270\n",
      "775  0.001436  0.998564\n",
      "776  0.001417  0.998583\n",
      "\n",
      "[777 rows x 2 columns]\n"
     ]
    }
   ],
   "source": [
    "print(test_result)"
   ]
  },
  {
   "cell_type": "code",
   "execution_count": 60,
   "id": "c1ab6c49",
   "metadata": {},
   "outputs": [
    {
     "data": {
      "text/html": [
       "<div>\n",
       "<style scoped>\n",
       "    .dataframe tbody tr th:only-of-type {\n",
       "        vertical-align: middle;\n",
       "    }\n",
       "\n",
       "    .dataframe tbody tr th {\n",
       "        vertical-align: top;\n",
       "    }\n",
       "\n",
       "    .dataframe thead th {\n",
       "        text-align: right;\n",
       "    }\n",
       "</style>\n",
       "<table border=\"1\" class=\"dataframe\">\n",
       "  <thead>\n",
       "    <tr style=\"text-align: right;\">\n",
       "      <th></th>\n",
       "      <th>0</th>\n",
       "      <th>1</th>\n",
       "      <th>2</th>\n",
       "    </tr>\n",
       "  </thead>\n",
       "  <tbody>\n",
       "    <tr>\n",
       "      <th>0</th>\n",
       "      <td>0.996199</td>\n",
       "      <td>0.003801</td>\n",
       "      <td>0</td>\n",
       "    </tr>\n",
       "    <tr>\n",
       "      <th>1</th>\n",
       "      <td>0.001408</td>\n",
       "      <td>0.998592</td>\n",
       "      <td>1</td>\n",
       "    </tr>\n",
       "    <tr>\n",
       "      <th>2</th>\n",
       "      <td>0.895401</td>\n",
       "      <td>0.104599</td>\n",
       "      <td>0</td>\n",
       "    </tr>\n",
       "    <tr>\n",
       "      <th>3</th>\n",
       "      <td>0.990331</td>\n",
       "      <td>0.009669</td>\n",
       "      <td>0</td>\n",
       "    </tr>\n",
       "    <tr>\n",
       "      <th>4</th>\n",
       "      <td>0.997237</td>\n",
       "      <td>0.002763</td>\n",
       "      <td>0</td>\n",
       "    </tr>\n",
       "    <tr>\n",
       "      <th>...</th>\n",
       "      <td>...</td>\n",
       "      <td>...</td>\n",
       "      <td>...</td>\n",
       "    </tr>\n",
       "    <tr>\n",
       "      <th>772</th>\n",
       "      <td>0.997034</td>\n",
       "      <td>0.002966</td>\n",
       "      <td>0</td>\n",
       "    </tr>\n",
       "    <tr>\n",
       "      <th>773</th>\n",
       "      <td>0.424192</td>\n",
       "      <td>0.575808</td>\n",
       "      <td>1</td>\n",
       "    </tr>\n",
       "    <tr>\n",
       "      <th>774</th>\n",
       "      <td>0.996730</td>\n",
       "      <td>0.003270</td>\n",
       "      <td>0</td>\n",
       "    </tr>\n",
       "    <tr>\n",
       "      <th>775</th>\n",
       "      <td>0.001436</td>\n",
       "      <td>0.998564</td>\n",
       "      <td>1</td>\n",
       "    </tr>\n",
       "    <tr>\n",
       "      <th>776</th>\n",
       "      <td>0.001417</td>\n",
       "      <td>0.998583</td>\n",
       "      <td>1</td>\n",
       "    </tr>\n",
       "  </tbody>\n",
       "</table>\n",
       "<p>777 rows × 3 columns</p>\n",
       "</div>"
      ],
      "text/plain": [
       "            0         1  2\n",
       "0    0.996199  0.003801  0\n",
       "1    0.001408  0.998592  1\n",
       "2    0.895401  0.104599  0\n",
       "3    0.990331  0.009669  0\n",
       "4    0.997237  0.002763  0\n",
       "..        ...       ... ..\n",
       "772  0.997034  0.002966  0\n",
       "773  0.424192  0.575808  1\n",
       "774  0.996730  0.003270  0\n",
       "775  0.001436  0.998564  1\n",
       "776  0.001417  0.998583  1\n",
       "\n",
       "[777 rows x 3 columns]"
      ]
     },
     "execution_count": 60,
     "metadata": {},
     "output_type": "execute_result"
    }
   ],
   "source": [
    "test_result[2]=test_result.apply(lambda x:0 if x[0]>0.5 else 1 , axis=1)  # 记得加后面这个\n",
    "test_result"
   ]
  },
  {
   "cell_type": "code",
   "execution_count": 61,
   "id": "fc4065ae",
   "metadata": {},
   "outputs": [
    {
     "name": "stdout",
     "output_type": "stream",
     "text": [
      "0      0\n",
      "1      1\n",
      "2      0\n",
      "3      0\n",
      "4      0\n",
      "      ..\n",
      "772    0\n",
      "773    1\n",
      "774    0\n",
      "775    1\n",
      "776    1\n",
      "Name: 2, Length: 777, dtype: int64\n"
     ]
    }
   ],
   "source": [
    "test_result_line = test_result.iloc[:,2]\n",
    "print(test_result_line)   # 单独抽离出来的结果预测结果"
   ]
  },
  {
   "cell_type": "code",
   "execution_count": 62,
   "id": "f840b2ec",
   "metadata": {},
   "outputs": [],
   "source": [
    "test_origin = pd.read_csv('test.tsv',sep='\\t',usecols=[0],header=None)  # 读取Noneheader  只读取第一列   忽略内容的/t"
   ]
  },
  {
   "cell_type": "code",
   "execution_count": 63,
   "id": "93a56698",
   "metadata": {},
   "outputs": [
    {
     "name": "stdout",
     "output_type": "stream",
     "text": [
      "     0\n",
      "0    0\n",
      "1    1\n",
      "2    1\n",
      "3    0\n",
      "4    0\n",
      "..  ..\n",
      "772  0\n",
      "773  0\n",
      "774  0\n",
      "775  1\n",
      "776  1\n",
      "\n",
      "[777 rows x 1 columns]\n"
     ]
    }
   ],
   "source": [
    "print(test_origin)"
   ]
  },
  {
   "cell_type": "code",
   "execution_count": 64,
   "id": "ea5b64be",
   "metadata": {
    "scrolled": true
   },
   "outputs": [
    {
     "name": "stdout",
     "output_type": "stream",
     "text": [
      "0      0\n",
      "1      1\n",
      "2      1\n",
      "3      0\n",
      "4      0\n",
      "      ..\n",
      "772    0\n",
      "773    0\n",
      "774    0\n",
      "775    1\n",
      "776    1\n",
      "Name: 0, Length: 777, dtype: int64\n"
     ]
    }
   ],
   "source": [
    "test_origin_line = test_origin.iloc[:,0]\n",
    "print(test_origin_line)   # 单独抽离出来的初始结果"
   ]
  },
  {
   "cell_type": "markdown",
   "id": "5242cf6a",
   "metadata": {},
   "source": [
    "# 2 开始进行指标的计算"
   ]
  },
  {
   "cell_type": "markdown",
   "id": "d3e2e010",
   "metadata": {},
   "source": [
    "## 2.1混淆矩阵"
   ]
  },
  {
   "cell_type": "code",
   "execution_count": 65,
   "id": "151a3ce2",
   "metadata": {},
   "outputs": [],
   "source": [
    "from sklearn.metrics import confusion_matrix\n",
    "from sklearn.metrics import ConfusionMatrixDisplay"
   ]
  },
  {
   "cell_type": "code",
   "execution_count": 66,
   "id": "42ab6582",
   "metadata": {},
   "outputs": [
    {
     "data": {
      "image/png": "[encoded data removed]",
      "text/plain": [
       "<Figure size 432x288 with 2 Axes>"
      ]
     },
     "metadata": {
      "needs_background": "light"
     },
     "output_type": "display_data"
    }
   ],
   "source": [
    "cm = confusion_matrix(test_origin_line,test_result_line)\n",
    "cm_display = ConfusionMatrixDisplay(cm).plot()"
   ]
  },
  {
   "cell_type": "markdown",
   "id": "90b04c3d",
   "metadata": {},
   "source": [
    "## 2.2准确率Accuracy"
   ]
  },
  {
   "cell_type": "code",
   "execution_count": 76,
   "id": "86eeb5c3",
   "metadata": {},
   "outputs": [],
   "source": [
    "from sklearn.metrics import accuracy_score"
   ]
  },
  {
   "cell_type": "code",
   "execution_count": 77,
   "id": "4f3e1c07",
   "metadata": {},
   "outputs": [],
   "source": [
    "accuracy_score_result=accuracy_score(test_origin_line,test_result_line)"
   ]
  },
  {
   "cell_type": "markdown",
   "id": "9f739990",
   "metadata": {},
   "source": [
    "## 2.3精确率"
   ]
  },
  {
   "cell_type": "code",
   "execution_count": 78,
   "id": "4ecd00b0",
   "metadata": {},
   "outputs": [],
   "source": [
    "from sklearn.metrics import precision_score"
   ]
  },
  {
   "cell_type": "code",
   "execution_count": 79,
   "id": "de29d01d",
   "metadata": {},
   "outputs": [],
   "source": [
    "precision_score_result=precision_score(test_origin_line,test_result_line)"
   ]
  },
  {
   "cell_type": "markdown",
   "id": "2ab57e22",
   "metadata": {},
   "source": [
    "## 2.3召回率"
   ]
  },
  {
   "cell_type": "code",
   "execution_count": 80,
   "id": "68657065",
   "metadata": {},
   "outputs": [],
   "source": [
    "from sklearn.metrics import recall_score"
   ]
  },
  {
   "cell_type": "code",
   "execution_count": 81,
   "id": "856b1a49",
   "metadata": {},
   "outputs": [],
   "source": [
    "recall_score_result=recall_score(test_origin_line,test_result_line)"
   ]
  },
  {
   "cell_type": "markdown",
   "id": "204ce167",
   "metadata": {},
   "source": [
    "## 2.4f1值"
   ]
  },
  {
   "cell_type": "code",
   "execution_count": 86,
   "id": "cfdf7e01",
   "metadata": {},
   "outputs": [
    {
     "data": {
      "text/plain": [
       "'0.9333333333333333'"
      ]
     },
     "execution_count": 86,
     "metadata": {},
     "output_type": "execute_result"
    }
   ],
   "source": [
    "from sklearn.metrics import f1_score\n",
    "f1_score_result=f1_score(test_origin_line,test_result_line)\n",
    "str(recall_score_result)"
   ]
  },
  {
   "cell_type": "markdown",
   "id": "4a86c4fd",
   "metadata": {},
   "source": [
    "## 输出"
   ]
  },
  {
   "cell_type": "code",
   "execution_count": 89,
   "id": "4c31cc3c",
   "metadata": {},
   "outputs": [],
   "source": [
    "f = open('result.txt','w')\n",
    "f.write(str(accuracy_score_result)+'\\t'+str(precision_score_result)+'\\t'+str(recall_score_result)+'\\t'+str(f1_score_result))\n",
    "f.close()"
   ]
  },
  {
   "cell_type": "code",
   "execution_count": null,
   "id": "f9eed958",
   "metadata": {},
   "outputs": [],
   "source": []
  }
 ],
 "metadata": {
  "kernelspec": {
   "display_name": "Python [conda env:broPythonWork] *",
   "language": "python",
   "name": "conda-env-broPythonWork-py"
  },
  "language_info": {
   "codemirror_mode": {
    "name": "ipython",
    "version": 3
   },
   "file_extension": ".py",
   "mimetype": "text/x-python",
   "name": "python",
   "nbconvert_exporter": "python",
   "pygments_lexer": "ipython3",
   "version": "3.8.12"
  }
 },
 "nbformat": 4,
 "nbformat_minor": 5
}
